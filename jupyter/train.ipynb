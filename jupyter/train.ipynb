{
 "cells": [
  {
   "cell_type": "code",
   "execution_count": 46,
   "metadata": {},
   "outputs": [],
   "source": [
    "import numpy as np\n",
    "import pickle\n",
    "from keras.preprocessing.text import Tokenizer\n",
    "from keras.preprocessing.sequence import pad_sequences\n",
    "from keras.utils import to_categorical\n",
    "from keras.models import Sequential\n",
    "from keras.layers import Dense\n",
    "from keras.layers import LSTM\n",
    "from keras.layers import GRU\n",
    "from keras.layers import Embedding\n",
    "from keras.callbacks import LambdaCallback"
   ]
  },
  {
   "cell_type": "code",
   "execution_count": 47,
   "metadata": {},
   "outputs": [],
   "source": [
    "# load doc into memory\n",
    "with open('sequences.txt', encoding='utf-8') as f:\n",
    "\ttexts = f.read().split('\\n')"
   ]
  },
  {
   "cell_type": "code",
   "execution_count": 110,
   "metadata": {},
   "outputs": [
    {
     "name": "stdout",
     "output_type": "stream",
     "text": [
      "[list([4, 494, 495]) list([494, 495, 1]) list([495, 1, 496])\n",
      " list([1, 496, 252]) list([496, 252, 497])]\n"
     ]
    }
   ],
   "source": [
    "# Load tokenizer and convert word sequences to their integers\n",
    "tokenizer = pickle.load(open('tokenizer.pkl', 'rb'))\n",
    "sequences = np.asarray(tokenizer.texts_to_sequences(texts))\n",
    "vocab_size = len(tokenizer.word_index) + 1\n",
    "del tokenizer\n",
    "print(sequences[:5])"
   ]
  },
  {
   "cell_type": "code",
   "execution_count": 92,
   "metadata": {},
   "outputs": [
    {
     "name": "stdout",
     "output_type": "stream",
     "text": [
      "embeddings shape: (1292, 50)\n"
     ]
    }
   ],
   "source": [
    "# Embeddings\n",
    "embeddings = pickle.load(open('embeddings.pkl', 'rb'))\n",
    "embedding_dim = embeddings.shape[1]\n",
    "print('embeddings shape: {}'.format(embeddings.shape))"
   ]
  },
  {
   "cell_type": "code",
   "execution_count": 96,
   "metadata": {},
   "outputs": [
    {
     "ename": "ValueError",
     "evalue": "setting an array element with a sequence.",
     "output_type": "error",
     "traceback": [
      "\u001b[1;31m---------------------------------------------------------------------------\u001b[0m",
      "\u001b[1;31mValueError\u001b[0m                                Traceback (most recent call last)",
      "\u001b[1;32m<ipython-input-96-ec91a0968257>\u001b[0m in \u001b[0;36m<module>\u001b[1;34m()\u001b[0m\n\u001b[0;32m      9\u001b[0m \u001b[1;31m# convert to numpy arrays\u001b[0m\u001b[1;33m\u001b[0m\u001b[1;33m\u001b[0m\u001b[0m\n\u001b[0;32m     10\u001b[0m \u001b[0mX\u001b[0m \u001b[1;33m=\u001b[0m \u001b[0mnp\u001b[0m\u001b[1;33m.\u001b[0m\u001b[0masarray\u001b[0m\u001b[1;33m(\u001b[0m\u001b[0mX\u001b[0m\u001b[1;33m)\u001b[0m\u001b[1;33m\u001b[0m\u001b[0m\n\u001b[1;32m---> 11\u001b[1;33m \u001b[0my\u001b[0m \u001b[1;33m=\u001b[0m \u001b[0mnp\u001b[0m\u001b[1;33m.\u001b[0m\u001b[0masarray\u001b[0m\u001b[1;33m(\u001b[0m\u001b[0my\u001b[0m\u001b[1;33m)\u001b[0m\u001b[1;33m\u001b[0m\u001b[0m\n\u001b[0m",
      "\u001b[1;32mc:\\users\\shaoin\\appdata\\local\\programs\\python\\python36\\lib\\site-packages\\numpy\\core\\numeric.py\u001b[0m in \u001b[0;36masarray\u001b[1;34m(a, dtype, order)\u001b[0m\n\u001b[0;32m    490\u001b[0m \u001b[1;33m\u001b[0m\u001b[0m\n\u001b[0;32m    491\u001b[0m     \"\"\"\n\u001b[1;32m--> 492\u001b[1;33m     \u001b[1;32mreturn\u001b[0m \u001b[0marray\u001b[0m\u001b[1;33m(\u001b[0m\u001b[0ma\u001b[0m\u001b[1;33m,\u001b[0m \u001b[0mdtype\u001b[0m\u001b[1;33m,\u001b[0m \u001b[0mcopy\u001b[0m\u001b[1;33m=\u001b[0m\u001b[1;32mFalse\u001b[0m\u001b[1;33m,\u001b[0m \u001b[0morder\u001b[0m\u001b[1;33m=\u001b[0m\u001b[0morder\u001b[0m\u001b[1;33m)\u001b[0m\u001b[1;33m\u001b[0m\u001b[0m\n\u001b[0m\u001b[0;32m    493\u001b[0m \u001b[1;33m\u001b[0m\u001b[0m\n\u001b[0;32m    494\u001b[0m \u001b[1;33m\u001b[0m\u001b[0m\n",
      "\u001b[1;31mValueError\u001b[0m: setting an array element with a sequence."
     ]
    }
   ],
   "source": [
    "# separate into input and output\n",
    "X, y = sequences[:, :-1], sequences[:, -1]\n",
    "y = to_categorical(y, num_classes=vocab_size)\n",
    "seq_length = X.shape[1]"
   ]
  },
  {
   "cell_type": "code",
   "execution_count": 98,
   "metadata": {},
   "outputs": [
    {
     "data": {
      "text/plain": [
       "array([list([4, 494]), list([494, 495]), list([495, 1]), ...,\n",
       "       list([1291, 1]), list([1, 493]), list([493, 7])], dtype=object)"
      ]
     },
     "execution_count": 98,
     "metadata": {},
     "output_type": "execute_result"
    }
   ],
   "source": [
    "y"
   ]
  },
  {
   "cell_type": "code",
   "execution_count": 89,
   "metadata": {},
   "outputs": [
    {
     "ename": "ValueError",
     "evalue": "setting an array element with a sequence.",
     "output_type": "error",
     "traceback": [
      "\u001b[1;31m---------------------------------------------------------------------------\u001b[0m",
      "\u001b[1;31mValueError\u001b[0m                                Traceback (most recent call last)",
      "\u001b[1;32m<ipython-input-89-3c2c030fa0f5>\u001b[0m in \u001b[0;36m<module>\u001b[1;34m()\u001b[0m\n\u001b[0;32m      2\u001b[0m \u001b[1;31m# X is a sequence of integers\u001b[0m\u001b[1;33m\u001b[0m\u001b[1;33m\u001b[0m\u001b[0m\n\u001b[0;32m      3\u001b[0m \u001b[1;31m# X, y = sequences[:, :-1], sequences[:, -1]\u001b[0m\u001b[1;33m\u001b[0m\u001b[1;33m\u001b[0m\u001b[0m\n\u001b[1;32m----> 4\u001b[1;33m \u001b[0my\u001b[0m \u001b[1;33m=\u001b[0m \u001b[0mto_categorical\u001b[0m\u001b[1;33m(\u001b[0m\u001b[0my\u001b[0m\u001b[1;33m,\u001b[0m \u001b[0mnum_classes\u001b[0m\u001b[1;33m=\u001b[0m\u001b[0mvocab_size\u001b[0m\u001b[1;33m)\u001b[0m\u001b[1;33m\u001b[0m\u001b[0m\n\u001b[0m\u001b[0;32m      5\u001b[0m \u001b[0mseq_length\u001b[0m \u001b[1;33m=\u001b[0m \u001b[0mX\u001b[0m\u001b[1;33m.\u001b[0m\u001b[0mshape\u001b[0m\u001b[1;33m[\u001b[0m\u001b[1;36m1\u001b[0m\u001b[1;33m]\u001b[0m\u001b[1;33m\u001b[0m\u001b[0m\n",
      "\u001b[1;32mc:\\users\\shaoin\\appdata\\local\\programs\\python\\python36\\lib\\site-packages\\keras\\utils\\np_utils.py\u001b[0m in \u001b[0;36mto_categorical\u001b[1;34m(y, num_classes)\u001b[0m\n\u001b[0;32m     20\u001b[0m         \u001b[0mA\u001b[0m \u001b[0mbinary\u001b[0m \u001b[0mmatrix\u001b[0m \u001b[0mrepresentation\u001b[0m \u001b[0mof\u001b[0m \u001b[0mthe\u001b[0m \u001b[0minput\u001b[0m\u001b[1;33m.\u001b[0m\u001b[1;33m\u001b[0m\u001b[0m\n\u001b[0;32m     21\u001b[0m     \"\"\"\n\u001b[1;32m---> 22\u001b[1;33m     \u001b[0my\u001b[0m \u001b[1;33m=\u001b[0m \u001b[0mnp\u001b[0m\u001b[1;33m.\u001b[0m\u001b[0marray\u001b[0m\u001b[1;33m(\u001b[0m\u001b[0my\u001b[0m\u001b[1;33m,\u001b[0m \u001b[0mdtype\u001b[0m\u001b[1;33m=\u001b[0m\u001b[1;34m'int'\u001b[0m\u001b[1;33m)\u001b[0m\u001b[1;33m\u001b[0m\u001b[0m\n\u001b[0m\u001b[0;32m     23\u001b[0m     \u001b[0minput_shape\u001b[0m \u001b[1;33m=\u001b[0m \u001b[0my\u001b[0m\u001b[1;33m.\u001b[0m\u001b[0mshape\u001b[0m\u001b[1;33m\u001b[0m\u001b[0m\n\u001b[0;32m     24\u001b[0m     \u001b[1;32mif\u001b[0m \u001b[0minput_shape\u001b[0m \u001b[1;32mand\u001b[0m \u001b[0minput_shape\u001b[0m\u001b[1;33m[\u001b[0m\u001b[1;33m-\u001b[0m\u001b[1;36m1\u001b[0m\u001b[1;33m]\u001b[0m \u001b[1;33m==\u001b[0m \u001b[1;36m1\u001b[0m \u001b[1;32mand\u001b[0m \u001b[0mlen\u001b[0m\u001b[1;33m(\u001b[0m\u001b[0minput_shape\u001b[0m\u001b[1;33m)\u001b[0m \u001b[1;33m>\u001b[0m \u001b[1;36m1\u001b[0m\u001b[1;33m:\u001b[0m\u001b[1;33m\u001b[0m\u001b[0m\n",
      "\u001b[1;31mValueError\u001b[0m: setting an array element with a sequence."
     ]
    }
   ],
   "source": [
    "# separate into input and output\n",
    "# X is a sequence of integers\n",
    "# X, y = sequences[:, :-1], sequences[:, -1]\n",
    "y = to_categorical(y, num_classes=vocab_size)\n",
    "# seq_length = X.shape[1]"
   ]
  },
  {
   "cell_type": "code",
   "execution_count": 43,
   "metadata": {},
   "outputs": [
    {
     "name": "stdout",
     "output_type": "stream",
     "text": [
      "_________________________________________________________________\n",
      "Layer (type)                 Output Shape              Param #   \n",
      "=================================================================\n",
      "embedding_5 (Embedding)      (None, 2, 50)             75650     \n",
      "_________________________________________________________________\n",
      "gru_9 (GRU)                  (None, 2, 100)            45300     \n",
      "_________________________________________________________________\n",
      "gru_10 (GRU)                 (None, 100)               60300     \n",
      "_________________________________________________________________\n",
      "dense_9 (Dense)              (None, 100)               10100     \n",
      "_________________________________________________________________\n",
      "dense_10 (Dense)             (None, 1513)              152813    \n",
      "=================================================================\n",
      "Total params: 344,163\n",
      "Trainable params: 268,513\n",
      "Non-trainable params: 75,650\n",
      "_________________________________________________________________\n"
     ]
    }
   ],
   "source": [
    "# define model\n",
    "model = Sequential([\n",
    "    Embedding(vocab_size, embedding_dim, weights=[embeddings], input_length=seq_length, trainable=False),\n",
    "    GRU(100, return_sequences=True),\n",
    "    GRU(100),\n",
    "    Dense(100, activation='relu'),\n",
    "    Dense(vocab_size, activation='softmax'),\n",
    "])\n",
    "model.summary()\n",
    "# compile model\n",
    "model.compile(loss='categorical_crossentropy', optimizer='adam', metrics=['accuracy'])\n",
    "\n",
    "# callback\n",
    "def on_epoch_end(epoch, logs):\n",
    "    # save the model to a file\n",
    "    model.save('model.h5')\n",
    "\n",
    "callbacks = LambdaCallback(on_epoch_end=on_epoch_end)"
   ]
  },
  {
   "cell_type": "code",
   "execution_count": 44,
   "metadata": {},
   "outputs": [
    {
     "data": {
      "text/plain": [
       "array([[0., 0., 0., ..., 0., 0., 0.],\n",
       "       [0., 0., 1., ..., 0., 0., 0.],\n",
       "       [0., 1., 0., ..., 0., 0., 0.],\n",
       "       ...,\n",
       "       [0., 0., 0., ..., 0., 0., 0.],\n",
       "       [0., 0., 0., ..., 0., 0., 0.],\n",
       "       [0., 0., 0., ..., 0., 0., 0.]])"
      ]
     },
     "execution_count": 44,
     "metadata": {},
     "output_type": "execute_result"
    }
   ],
   "source": [
    "y"
   ]
  },
  {
   "cell_type": "code",
   "execution_count": 45,
   "metadata": {},
   "outputs": [
    {
     "name": "stdout",
     "output_type": "stream",
     "text": [
      "Epoch 1/100\n",
      "9992/9992 [==============================] - 10s 1ms/step - loss: 5.7310 - acc: 0.0704\n",
      "Epoch 2/100\n",
      "9992/9992 [==============================] - 9s 877us/step - loss: 5.2435 - acc: 0.0942\n",
      "Epoch 3/100\n",
      "9992/9992 [==============================] - 9s 895us/step - loss: 5.0204 - acc: 0.1086\n",
      "Epoch 4/100\n",
      "9992/9992 [==============================] - 9s 869us/step - loss: 4.8295 - acc: 0.1257\n",
      "Epoch 5/100\n",
      "9992/9992 [==============================] - 9s 865us/step - loss: 4.6755 - acc: 0.1345\n",
      "Epoch 6/100\n",
      "9992/9992 [==============================] - 9s 912us/step - loss: 4.5388 - acc: 0.1435\n",
      "Epoch 7/100\n",
      "9992/9992 [==============================] - 9s 880us/step - loss: 4.4036 - acc: 0.1482\n",
      "Epoch 8/100\n",
      "9992/9992 [==============================] - 9s 867us/step - loss: 4.2636 - acc: 0.1512\n",
      "Epoch 9/100\n",
      "9992/9992 [==============================] - 9s 864us/step - loss: 4.1268 - acc: 0.1600\n",
      "Epoch 10/100\n",
      "9992/9992 [==============================] - 9s 882us/step - loss: 3.9881 - acc: 0.1678\n",
      "Epoch 11/100\n",
      "9992/9992 [==============================] - 9s 866us/step - loss: 3.8461 - acc: 0.1750\n",
      "Epoch 12/100\n",
      "9992/9992 [==============================] - 8s 824us/step - loss: 3.7051 - acc: 0.1811\n",
      "Epoch 13/100\n",
      "9992/9992 [==============================] - 8s 848us/step - loss: 3.5732 - acc: 0.1900\n",
      "Epoch 14/100\n",
      "9992/9992 [==============================] - 9s 896us/step - loss: 3.4414 - acc: 0.1998\n",
      "Epoch 15/100\n",
      "9992/9992 [==============================] - 9s 862us/step - loss: 3.3214 - acc: 0.2137\n",
      "Epoch 16/100\n",
      "9992/9992 [==============================] - 8s 824us/step - loss: 3.2176 - acc: 0.2301\n",
      "Epoch 17/100\n",
      "9992/9992 [==============================] - 8s 821us/step - loss: 3.1153 - acc: 0.2384\n",
      "Epoch 18/100\n",
      "9992/9992 [==============================] - 8s 823us/step - loss: 3.0213 - acc: 0.2512\n",
      "Epoch 19/100\n",
      "9992/9992 [==============================] - 8s 823us/step - loss: 2.9360 - acc: 0.2614\n",
      "Epoch 20/100\n",
      "9992/9992 [==============================] - 8s 823us/step - loss: 2.8534 - acc: 0.2764\n",
      "Epoch 21/100\n",
      "9992/9992 [==============================] - 8s 832us/step - loss: 2.7740 - acc: 0.2823\n",
      "Epoch 22/100\n",
      "9992/9992 [==============================] - 8s 830us/step - loss: 2.7021 - acc: 0.2959\n",
      "Epoch 23/100\n",
      "9992/9992 [==============================] - 8s 823us/step - loss: 2.6338 - acc: 0.3098\n",
      "Epoch 24/100\n",
      "9992/9992 [==============================] - 8s 822us/step - loss: 2.5658 - acc: 0.3139\n",
      "Epoch 25/100\n",
      "9992/9992 [==============================] - 8s 821us/step - loss: 2.4993 - acc: 0.3335\n",
      "Epoch 26/100\n",
      "9992/9992 [==============================] - 8s 822us/step - loss: 2.4383 - acc: 0.3444\n",
      "Epoch 27/100\n",
      "9992/9992 [==============================] - 8s 823us/step - loss: 2.3850 - acc: 0.3523\n",
      "Epoch 28/100\n",
      "9992/9992 [==============================] - 8s 825us/step - loss: 2.3227 - acc: 0.3604\n",
      "Epoch 29/100\n",
      "9992/9992 [==============================] - 8s 821us/step - loss: 2.2775 - acc: 0.3693\n",
      "Epoch 30/100\n",
      "9992/9992 [==============================] - 8s 833us/step - loss: 2.2213 - acc: 0.3786\n",
      "Epoch 31/100\n",
      "9992/9992 [==============================] - 10s 957us/step - loss: 2.1681 - acc: 0.3932\n",
      "Epoch 32/100\n",
      "9992/9992 [==============================] - 9s 926us/step - loss: 2.1214 - acc: 0.3963\n",
      "Epoch 33/100\n",
      "9992/9992 [==============================] - 10s 976us/step - loss: 2.0768 - acc: 0.4105\n",
      "Epoch 34/100\n",
      "9992/9992 [==============================] - 10s 990us/step - loss: 2.0307 - acc: 0.4193\n",
      "Epoch 35/100\n",
      "9992/9992 [==============================] - 9s 921us/step - loss: 1.9899 - acc: 0.4254\n",
      "Epoch 36/100\n",
      "9992/9992 [==============================] - 9s 917us/step - loss: 1.9433 - acc: 0.4408\n",
      "Epoch 37/100\n",
      "9992/9992 [==============================] - 9s 893us/step - loss: 1.9096 - acc: 0.4429\n",
      "Epoch 38/100\n",
      "9992/9992 [==============================] - 9s 923us/step - loss: 1.8705 - acc: 0.4505\n",
      "Epoch 39/100\n",
      "9992/9992 [==============================] - 9s 933us/step - loss: 1.8340 - acc: 0.4561\n",
      "Epoch 40/100\n",
      "9992/9992 [==============================] - 9s 925us/step - loss: 1.7944 - acc: 0.4677\n",
      "Epoch 41/100\n",
      "9992/9992 [==============================] - 9s 886us/step - loss: 1.7630 - acc: 0.4765\n",
      "Epoch 42/100\n",
      "9992/9992 [==============================] - 9s 884us/step - loss: 1.7345 - acc: 0.4771\n",
      "Epoch 43/100\n",
      "9992/9992 [==============================] - 9s 887us/step - loss: 1.6933 - acc: 0.4886\n",
      "Epoch 44/100\n",
      "9992/9992 [==============================] - 9s 887us/step - loss: 1.6634 - acc: 0.4946 1s - loss: 1\n",
      "Epoch 45/100\n",
      "9992/9992 [==============================] - 9s 902us/step - loss: 1.6354 - acc: 0.5010\n",
      "Epoch 46/100\n",
      "9992/9992 [==============================] - 9s 887us/step - loss: 1.6010 - acc: 0.5140\n",
      "Epoch 47/100\n",
      "9992/9992 [==============================] - 9s 890us/step - loss: 1.5764 - acc: 0.5178\n",
      "Epoch 48/100\n",
      "9992/9992 [==============================] - 9s 887us/step - loss: 1.5479 - acc: 0.5262\n",
      "Epoch 49/100\n",
      "9992/9992 [==============================] - 9s 897us/step - loss: 1.5219 - acc: 0.5256\n",
      "Epoch 50/100\n",
      "9992/9992 [==============================] - 9s 894us/step - loss: 1.4905 - acc: 0.5362\n",
      "Epoch 51/100\n",
      "9992/9992 [==============================] - 9s 893us/step - loss: 1.4674 - acc: 0.5449\n",
      "Epoch 52/100\n",
      "9992/9992 [==============================] - 9s 902us/step - loss: 1.4543 - acc: 0.5461\n",
      "Epoch 53/100\n",
      "9992/9992 [==============================] - 9s 888us/step - loss: 1.4239 - acc: 0.5555\n",
      "Epoch 54/100\n",
      "9992/9992 [==============================] - 9s 892us/step - loss: 1.4018 - acc: 0.5633\n",
      "Epoch 55/100\n",
      "9992/9992 [==============================] - 9s 887us/step - loss: 1.3742 - acc: 0.5686\n",
      "Epoch 56/100\n",
      "9992/9992 [==============================] - 9s 889us/step - loss: 1.3593 - acc: 0.5744\n",
      "Epoch 57/100\n",
      "9992/9992 [==============================] - 9s 895us/step - loss: 1.3432 - acc: 0.5777\n",
      "Epoch 58/100\n",
      "9992/9992 [==============================] - 9s 893us/step - loss: 1.3318 - acc: 0.5780\n",
      "Epoch 59/100\n",
      "9992/9992 [==============================] - 9s 891us/step - loss: 1.3115 - acc: 0.5831\n",
      "Epoch 60/100\n",
      "9992/9992 [==============================] - 9s 895us/step - loss: 1.3037 - acc: 0.5859\n",
      "Epoch 61/100\n",
      "9992/9992 [==============================] - 9s 892us/step - loss: 1.2717 - acc: 0.5917\n",
      "Epoch 62/100\n",
      "9992/9992 [==============================] - 9s 894us/step - loss: 1.2686 - acc: 0.5956\n",
      "Epoch 63/100\n",
      "9992/9992 [==============================] - 9s 888us/step - loss: 1.2553 - acc: 0.5985\n",
      "Epoch 64/100\n",
      "9992/9992 [==============================] - 9s 891us/step - loss: 1.2396 - acc: 0.6036\n",
      "Epoch 65/100\n",
      "9992/9992 [==============================] - 9s 889us/step - loss: 1.2235 - acc: 0.6055\n",
      "Epoch 66/100\n",
      "9992/9992 [==============================] - 9s 890us/step - loss: 1.2180 - acc: 0.6083\n",
      "Epoch 67/100\n",
      "9992/9992 [==============================] - 9s 892us/step - loss: 1.2083 - acc: 0.6086\n",
      "Epoch 68/100\n",
      "9992/9992 [==============================] - 9s 889us/step - loss: 1.1973 - acc: 0.6103\n",
      "Epoch 69/100\n",
      "9992/9992 [==============================] - 9s 890us/step - loss: 1.1805 - acc: 0.6138\n",
      "Epoch 70/100\n",
      "9992/9992 [==============================] - 9s 894us/step - loss: 1.1791 - acc: 0.6108\n",
      "Epoch 71/100\n",
      "9992/9992 [==============================] - 9s 897us/step - loss: 1.1677 - acc: 0.6152\n",
      "Epoch 72/100\n",
      "9992/9992 [==============================] - 9s 896us/step - loss: 1.1703 - acc: 0.6130\n",
      "Epoch 73/100\n",
      "9992/9992 [==============================] - 9s 897us/step - loss: 1.1545 - acc: 0.6215\n",
      "Epoch 74/100\n",
      "9992/9992 [==============================] - 9s 896us/step - loss: 1.1491 - acc: 0.6194\n",
      "Epoch 75/100\n",
      "9992/9992 [==============================] - 9s 899us/step - loss: 1.1527 - acc: 0.6182\n",
      "Epoch 76/100\n",
      "9992/9992 [==============================] - 9s 898us/step - loss: 1.1333 - acc: 0.6215\n",
      "Epoch 77/100\n",
      "9992/9992 [==============================] - 9s 898us/step - loss: 1.1257 - acc: 0.6282\n",
      "Epoch 78/100\n",
      "9992/9992 [==============================] - 9s 912us/step - loss: 1.1316 - acc: 0.6191 \n",
      "Epoch 79/100\n",
      "9992/9992 [==============================] - 9s 897us/step - loss: 1.1166 - acc: 0.6255\n",
      "Epoch 80/100\n",
      "9992/9992 [==============================] - 9s 897us/step - loss: 1.1099 - acc: 0.6237\n",
      "Epoch 81/100\n",
      "9992/9992 [==============================] - 9s 901us/step - loss: 1.1052 - acc: 0.6253\n"
     ]
    },
    {
     "name": "stdout",
     "output_type": "stream",
     "text": [
      "Epoch 82/100\n",
      "9992/9992 [==============================] - 9s 856us/step - loss: 1.0978 - acc: 0.6306\n",
      "Epoch 83/100\n",
      "9992/9992 [==============================] - 9s 857us/step - loss: 1.1021 - acc: 0.6314\n",
      "Epoch 84/100\n",
      "9992/9992 [==============================] - 9s 861us/step - loss: 1.0989 - acc: 0.6285\n",
      "Epoch 85/100\n",
      "9992/9992 [==============================] - 9s 859us/step - loss: 1.0855 - acc: 0.6309\n",
      "Epoch 86/100\n",
      "9992/9992 [==============================] - 9s 859us/step - loss: 1.0882 - acc: 0.6285\n",
      "Epoch 87/100\n",
      "9992/9992 [==============================] - 9s 861us/step - loss: 1.0759 - acc: 0.6300\n",
      "Epoch 88/100\n",
      "9992/9992 [==============================] - 9s 867us/step - loss: 1.0812 - acc: 0.6309\n",
      "Epoch 89/100\n",
      "9992/9992 [==============================] - 9s 861us/step - loss: 1.0716 - acc: 0.6297\n",
      "Epoch 90/100\n",
      "9992/9992 [==============================] - 9s 860us/step - loss: 1.0683 - acc: 0.6310 1s -\n",
      "Epoch 91/100\n",
      "9992/9992 [==============================] - 9s 862us/step - loss: 1.0682 - acc: 0.6308\n",
      "Epoch 92/100\n",
      "9992/9992 [==============================] - 9s 860us/step - loss: 1.0687 - acc: 0.6297\n",
      "Epoch 93/100\n",
      "9992/9992 [==============================] - 9s 863us/step - loss: 1.0670 - acc: 0.6322\n",
      "Epoch 94/100\n",
      "9992/9992 [==============================] - 9s 864us/step - loss: 1.0534 - acc: 0.6324\n",
      "Epoch 95/100\n",
      "9992/9992 [==============================] - 9s 867us/step - loss: 1.0528 - acc: 0.6366\n",
      "Epoch 96/100\n",
      "9992/9992 [==============================] - 9s 865us/step - loss: 1.0479 - acc: 0.6351\n",
      "Epoch 97/100\n",
      "9992/9992 [==============================] - 9s 867us/step - loss: 1.0489 - acc: 0.6313\n",
      "Epoch 98/100\n",
      "9992/9992 [==============================] - 9s 865us/step - loss: 1.0479 - acc: 0.6330\n",
      "Epoch 99/100\n",
      "9992/9992 [==============================] - 9s 863us/step - loss: 1.0412 - acc: 0.6362\n",
      "Epoch 100/100\n",
      "9992/9992 [==============================] - 9s 866us/step - loss: 1.0435 - acc: 0.6337\n"
     ]
    },
    {
     "data": {
      "text/plain": [
       "<keras.callbacks.History at 0x203322b1ba8>"
      ]
     },
     "execution_count": 45,
     "metadata": {},
     "output_type": "execute_result"
    }
   ],
   "source": [
    "# fit model\n",
    "model.fit(X, y, batch_size=10, epochs=100, callbacks=[callbacks])"
   ]
  },
  {
   "cell_type": "code",
   "execution_count": null,
   "metadata": {},
   "outputs": [],
   "source": []
  }
 ],
 "metadata": {
  "kernelspec": {
   "display_name": "Python 3",
   "language": "python",
   "name": "python3"
  },
  "language_info": {
   "codemirror_mode": {
    "name": "ipython",
    "version": 3
   },
   "file_extension": ".py",
   "mimetype": "text/x-python",
   "name": "python",
   "nbconvert_exporter": "python",
   "pygments_lexer": "ipython3",
   "version": "3.6.4"
  }
 },
 "nbformat": 4,
 "nbformat_minor": 2
}
