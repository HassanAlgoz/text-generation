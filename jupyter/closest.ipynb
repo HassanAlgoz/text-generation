{
 "cells": [
  {
   "cell_type": "code",
   "execution_count": 1,
   "metadata": {},
   "outputs": [],
   "source": [
    "import numpy as np\n",
    "\n",
    "# input: word\n",
    "# output: nearest 10 words sorted by nearest to farthest\n",
    "\n",
    "def euclidean_dist(vec1, vec2):\n",
    "    return np.sqrt(np.sum((vec1-vec2)**2))\n",
    "\n",
    "def find_closest(word_index, vectors, n=10):\n",
    "    query_vector = vectors[word_index]\n",
    "    closest = []\n",
    "    distances = []\n",
    "    for i in range(n):\n",
    "        min_dist = 9999999 # to act like positive infinity\n",
    "        min_index = -1\n",
    "        for index, vector in enumerate(vectors):\n",
    "            if index in closest:\n",
    "                continue\n",
    "            candidate_min = euclidean_dist(vector, query_vector)\n",
    "            if candidate_min < min_dist and index != word_index:\n",
    "                min_dist = candidate_min\n",
    "                min_index = index\n",
    "        closest.append(min_index)\n",
    "        distances.append(min_dist)\n",
    "    return zip(closest, distances)"
   ]
  },
  {
   "cell_type": "code",
   "execution_count": 2,
   "metadata": {},
   "outputs": [
    {
     "data": {
      "text/plain": [
       "7.0"
      ]
     },
     "execution_count": 2,
     "metadata": {},
     "output_type": "execute_result"
    }
   ],
   "source": [
    "euclidean_dist(np.array([1,2,3]), np.array([4, 4, 9]))"
   ]
  },
  {
   "cell_type": "code",
   "execution_count": 3,
   "metadata": {},
   "outputs": [
    {
     "name": "stderr",
     "output_type": "stream",
     "text": [
      "c:\\users\\shaoin\\appdata\\local\\programs\\python\\python36\\lib\\site-packages\\h5py\\__init__.py:36: FutureWarning: Conversion of the second argument of issubdtype from `float` to `np.floating` is deprecated. In future, it will be treated as `np.float64 == np.dtype(float).type`.\n",
      "  from ._conv import register_converters as _register_converters\n",
      "Using TensorFlow backend.\n"
     ]
    }
   ],
   "source": [
    "import pickle\n",
    "# Load tokenizer and convert word sequences to their integers\n",
    "tokenizer = pickle.load(open('tokenizer.pkl', 'rb'))\n",
    "word2int = tokenizer.word_index\n",
    "int2word = {v: k for k, v in tokenizer.word_index.items()}\n",
    "del tokenizer\n",
    "# Embeddings\n",
    "embeddings = pickle.load(open('embeddings.pkl', 'rb'))"
   ]
  },
  {
   "cell_type": "code",
   "execution_count": 4,
   "metadata": {},
   "outputs": [
    {
     "name": "stdout",
     "output_type": "stream",
     "text": [
      "الأمطار 0.33123955\n",
      "نفس 0.3312464\n",
      "مقدمة 0.33362162\n",
      "] 0.33477342\n",
      "الشام 0.33677334\n",
      "تشكل 0.33772847\n",
      "المستقلة 0.33891967\n",
      "ميل 0.340798\n",
      "فيه 0.3434091\n",
      "تسمى 0.34396708\n"
     ]
    }
   ],
   "source": [
    "for index, dist in find_closest(word2int['اللغة'], embeddings):\n",
    "    print(int2word[index], dist)"
   ]
  },
  {
   "cell_type": "code",
   "execution_count": null,
   "metadata": {},
   "outputs": [],
   "source": []
  }
 ],
 "metadata": {
  "kernelspec": {
   "display_name": "Python 3",
   "language": "python",
   "name": "python3"
  },
  "language_info": {
   "codemirror_mode": {
    "name": "ipython",
    "version": 3
   },
   "file_extension": ".py",
   "mimetype": "text/x-python",
   "name": "python",
   "nbconvert_exporter": "python",
   "pygments_lexer": "ipython3",
   "version": "3.6.4"
  }
 },
 "nbformat": 4,
 "nbformat_minor": 2
}
